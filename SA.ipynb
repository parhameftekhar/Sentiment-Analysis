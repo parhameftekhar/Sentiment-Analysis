{
  "nbformat": 4,
  "nbformat_minor": 0,
  "metadata": {
    "colab": {
      "name": "SA.ipynb",
      "provenance": [],
      "collapsed_sections": []
    },
    "kernelspec": {
      "name": "python3",
      "display_name": "Python 3"
    },
    "language_info": {
      "name": "python"
    },
    "accelerator": "GPU"
  },
  "cells": [
    {
      "cell_type": "markdown",
      "metadata": {
        "id": "EYn29mcKchzz"
      },
      "source": [
        "# Mounting Drive"
      ]
    },
    {
      "cell_type": "code",
      "metadata": {
        "colab": {
          "base_uri": "https://localhost:8080/"
        },
        "id": "lK0yYiPdcY9s",
        "outputId": "afb8ec8a-0130-4c91-d8e7-644699d45006"
      },
      "source": [
        "from google.colab import drive\n",
        "drive.mount('/content/drive')\n",
        "%cd /content/drive/My Drive/Colab Notebooks/Sentiment Analysis"
      ],
      "execution_count": 1,
      "outputs": [
        {
          "output_type": "stream",
          "text": [
            "Drive already mounted at /content/drive; to attempt to forcibly remount, call drive.mount(\"/content/drive\", force_remount=True).\n",
            "/content/drive/My Drive/Colab Notebooks/Sentiment Analysis\n"
          ],
          "name": "stdout"
        }
      ]
    },
    {
      "cell_type": "markdown",
      "metadata": {
        "id": "aychNRVtkxlN"
      },
      "source": [
        "# Downloading Taghche Dataset\n",
        "Using Kaggle Api, we can download the dataset using commands below. Before executing the cell you need to download an authentication token from the website and place it in your current directory. For more information please visit https://www.kaggle.com/."
      ]
    },
    {
      "cell_type": "code",
      "metadata": {
        "id": "_cTp4b24j803"
      },
      "source": [
        "! pip install -q kaggle\n",
        "! mkdir ~/.kaggle\n",
        "! cp kaggle.json ~/.kaggle/\n",
        "! chmod 600 ~/.kaggle/kaggle.json\n",
        "! kaggle datasets download saeedtqp/taaghche\n",
        "! unzip taaghche.zip"
      ],
      "execution_count": 2,
      "outputs": []
    },
    {
      "cell_type": "markdown",
      "metadata": {
        "id": "Sn47-5JQD-JD"
      },
      "source": [
        "# Importing packages "
      ]
    },
    {
      "cell_type": "code",
      "metadata": {
        "colab": {
          "base_uri": "https://localhost:8080/"
        },
        "id": "ZlUDk7AmA2B_",
        "outputId": "14cfc8a8-d515-4ed3-d766-621f859f50c6"
      },
      "source": [
        "! pip install transformers==3\n",
        "! pip install hazm\n",
        "\n",
        "import pandas as pd\n",
        "import re\n",
        "from hazm import Normalizer\n",
        "from itertools import groupby\n",
        "from sklearn.model_selection import train_test_split\n",
        "from transformers import BertTokenizerFast, BertForSequenceClassification, AdamW\n",
        "import torch\n",
        "from torch.utils.data import DataLoader, Dataset\n",
        "import torch.nn.functional as F\n",
        "from sklearn.metrics import classification_report\n",
        "from tqdm import tqdm\n",
        "from matplotlib import pyplot as plt"
      ],
      "execution_count": 3,
      "outputs": [
        {
          "output_type": "stream",
          "text": [
            "Requirement already satisfied: transformers==3 in /usr/local/lib/python3.7/dist-packages (3.0.0)\n",
            "Requirement already satisfied: packaging in /usr/local/lib/python3.7/dist-packages (from transformers==3) (20.9)\n",
            "Requirement already satisfied: tokenizers==0.8.0-rc4 in /usr/local/lib/python3.7/dist-packages (from transformers==3) (0.8.0rc4)\n",
            "Requirement already satisfied: requests in /usr/local/lib/python3.7/dist-packages (from transformers==3) (2.23.0)\n",
            "Requirement already satisfied: sentencepiece in /usr/local/lib/python3.7/dist-packages (from transformers==3) (0.1.95)\n",
            "Requirement already satisfied: sacremoses in /usr/local/lib/python3.7/dist-packages (from transformers==3) (0.0.44)\n",
            "Requirement already satisfied: filelock in /usr/local/lib/python3.7/dist-packages (from transformers==3) (3.0.12)\n",
            "Requirement already satisfied: numpy in /usr/local/lib/python3.7/dist-packages (from transformers==3) (1.19.5)\n",
            "Requirement already satisfied: regex!=2019.12.17 in /usr/local/lib/python3.7/dist-packages (from transformers==3) (2019.12.20)\n",
            "Requirement already satisfied: tqdm>=4.27 in /usr/local/lib/python3.7/dist-packages (from transformers==3) (4.41.1)\n",
            "Requirement already satisfied: pyparsing>=2.0.2 in /usr/local/lib/python3.7/dist-packages (from packaging->transformers==3) (2.4.7)\n",
            "Requirement already satisfied: urllib3!=1.25.0,!=1.25.1,<1.26,>=1.21.1 in /usr/local/lib/python3.7/dist-packages (from requests->transformers==3) (1.24.3)\n",
            "Requirement already satisfied: certifi>=2017.4.17 in /usr/local/lib/python3.7/dist-packages (from requests->transformers==3) (2020.12.5)\n",
            "Requirement already satisfied: idna<3,>=2.5 in /usr/local/lib/python3.7/dist-packages (from requests->transformers==3) (2.10)\n",
            "Requirement already satisfied: chardet<4,>=3.0.2 in /usr/local/lib/python3.7/dist-packages (from requests->transformers==3) (3.0.4)\n",
            "Requirement already satisfied: click in /usr/local/lib/python3.7/dist-packages (from sacremoses->transformers==3) (7.1.2)\n",
            "Requirement already satisfied: six in /usr/local/lib/python3.7/dist-packages (from sacremoses->transformers==3) (1.15.0)\n",
            "Requirement already satisfied: joblib in /usr/local/lib/python3.7/dist-packages (from sacremoses->transformers==3) (1.0.1)\n",
            "Requirement already satisfied: hazm in /usr/local/lib/python3.7/dist-packages (0.7.0)\n",
            "Requirement already satisfied: nltk==3.3 in /usr/local/lib/python3.7/dist-packages (from hazm) (3.3)\n",
            "Requirement already satisfied: libwapiti>=0.2.1; platform_system != \"Windows\" in /usr/local/lib/python3.7/dist-packages (from hazm) (0.2.1)\n",
            "Requirement already satisfied: six in /usr/local/lib/python3.7/dist-packages (from nltk==3.3->hazm) (1.15.0)\n"
          ],
          "name": "stdout"
        }
      ]
    },
    {
      "cell_type": "markdown",
      "metadata": {
        "id": "zYLRB-kWGFbV"
      },
      "source": [
        "# Constants"
      ]
    },
    {
      "cell_type": "code",
      "metadata": {
        "id": "qNR-SjVQGN6M"
      },
      "source": [
        "SEED_NUMBER = 1\n",
        "MODEL_NAME = \"HooshvareLab/bert-base-parsbert-uncased\"\n",
        "MAX_SEQ_LEN = 128\n",
        "TRAIN_BATCH_SIZE = 32\n",
        "VALID_BATCH_SIZE = 64\n",
        "TEST_BATCH_SIZE = 64\n",
        "LARNING_RATE = 1e-5\n",
        "EPOCHS = 30"
      ],
      "execution_count": 4,
      "outputs": []
    },
    {
      "cell_type": "markdown",
      "metadata": {
        "id": "Wp9e5sUVrrDW"
      },
      "source": [
        "# Loading Data & Preprocessing"
      ]
    },
    {
      "cell_type": "markdown",
      "metadata": {
        "id": "rluefC6j5EyT"
      },
      "source": [
        "### This dataset comes with ratings of users which can be between zero to five. After examining the comments and associated ratings, I realized that the 3-star ratings are very noisy and therefore, I eliminated them and finally ratings above 3 are considered as positive and otherwise as negative."
      ]
    },
    {
      "cell_type": "code",
      "metadata": {
        "id": "bO-87TyCEgyX"
      },
      "source": [
        "df = pd.read_csv('taghche.csv')\n",
        "\n",
        "# keeping only the comment and rating columns\n",
        "df = df[['comment', 'rate']] \n",
        "\n",
        "# eliminating NaN or None values\n",
        "df = df[df['comment'].notna()] \n",
        "\n",
        "# 3-star ratings are very noisy therefore I eliminate them\n",
        "df = df[~(df['rate'] == 3)] \n",
        "\n",
        "# converting the ratings to binary label\n",
        "df['label'] = df['rate'].apply(lambda x: 1 if x > 3 else 0)\n",
        "\n",
        "# deleting the rate column\n",
        "df.drop(['rate'], axis=1, inplace=True) \n",
        "\n",
        "# getting min of class labels\n",
        "min_num = min(df['label'].value_counts()) \n",
        "\n",
        "# applying down-sampling to balance the classes\n",
        "df = df.groupby('label').apply(lambda x: x.sample(min_num, random_state=SEED_NUMBER)).reset_index(drop=True)"
      ],
      "execution_count": 5,
      "outputs": []
    },
    {
      "cell_type": "markdown",
      "metadata": {
        "id": "s2AZhp-a7WjR"
      },
      "source": [
        "# Text Cleaning "
      ]
    },
    {
      "cell_type": "code",
      "metadata": {
        "id": "Kg1p4vSR1lBc"
      },
      "source": [
        "def cleaner(text,\n",
        "            html=True,\n",
        "            cr_lf=True,\n",
        "            digit=True,\n",
        "            eng_alpha=True,\n",
        "            emoji=True,\n",
        "            symbols=True,\n",
        "            multiple_space=True,\n",
        "            eng_punc=False,\n",
        "            fa_punc=False,\n",
        "            quote=False,\n",
        "            repitition=True):\n",
        "\n",
        "    if text is None or text == \"\":\n",
        "        return None\n",
        "    text = str(text)\n",
        "    text = text.strip()\n",
        "    if cr_lf:\n",
        "        text = clean_cr_lf(text)\n",
        "    if html:\n",
        "        text = clean_html(text)\n",
        "    if digit:\n",
        "        text = clean_digit(text)\n",
        "    if eng_alpha:\n",
        "        text = clean_eng_alpha(text)\n",
        "    if emoji:\n",
        "        text = clean_emoji(text)\n",
        "    if symbols:\n",
        "        text = clean_symbols(text)\n",
        "    if eng_punc:\n",
        "        text = clean_eng_punc(text)\n",
        "    if fa_punc:\n",
        "        text = clean_fa_punc(text)\n",
        "    if quote:\n",
        "        text = clean_quote(text)\n",
        "    if repitition:\n",
        "        text = clean_repetition(text)\n",
        "    if multiple_space:\n",
        "        text = clean_multiple_space(text)\n",
        "    text = Normalizer().normalize(text)\n",
        "    text = text.strip()\n",
        "    output =  None if text == \"\" else text\n",
        "    return output\n",
        "\n",
        "# This function removes html tags\n",
        "def clean_html(text):\n",
        "    cleaner = re.compile('<.*?>')\n",
        "    cleantext = re.sub(cleaner, '', text)\n",
        "    return cleantext\n",
        "\n",
        "# This function removes \\n(line feed) and \\r(carriage return)\n",
        "def clean_cr_lf(text):\n",
        "    return text.replace(\"\\n\", \" \").replace(\"\\r\", \" \")\n",
        "\n",
        "# This function removes digits\n",
        "def clean_digit(text):\n",
        "    return \"\".join([_ for _ in text if not _.isdigit()])\n",
        "\n",
        "# This function removes english alphabet\n",
        "def clean_eng_alpha(text):\n",
        "    return \"\".join([_ for _ in text if not re.match(r'[A-Z]', _, re.I)])\n",
        "\n",
        "# This function removes emojis\n",
        "def clean_emoji(string):\n",
        "    emoji_pattern = re.compile(\"[\"\n",
        "                               u\"\\U0001F600-\\U0001F64F\"  # emoticons\n",
        "                               u\"\\U0001F300-\\U0001F5FF\"  # symbols & pictographs\n",
        "                               u\"\\U0001F680-\\U0001F6FF\"  # transport & map symbols\n",
        "                               u\"\\U0001F1E0-\\U0001F1FF\"  # flags (iOS)\n",
        "                               u\"\\U00002500-\\U00002BEF\"  # chinese char\n",
        "                               u\"\\U00002702-\\U000027B0\"\n",
        "                               u\"\\U00002702-\\U000027B0\"\n",
        "                               u\"\\U000024C2-\\U0001F251\"\n",
        "                               u\"\\U0001f926-\\U0001f937\"\n",
        "                               u\"\\U00010000-\\U0010ffff\"\n",
        "                               u\"\\u2640-\\u2642\"\n",
        "                               u\"\\u2600-\\u2B55\"\n",
        "                               u\"\\u200d\"\n",
        "                               u\"\\u23cf\"\n",
        "                               u\"\\u23e9\"\n",
        "                               u\"\\u231a\"\n",
        "                               u\"\\ufe0f\"  # dingbats\n",
        "                               u\"\\u3030\"\n",
        "                               \"]+\", flags=re.UNICODE)\n",
        "    return emoji_pattern.sub(r'', string)\n",
        "\n",
        "# This function removes some common symbols e.g. @ # $\n",
        "def clean_symbols(text):\n",
        "    cleaner = re.compile(r'[@#$%&^_+=~]')\n",
        "    text = re.sub(cleaner, '', text)\n",
        "    return text.replace(\"*\", \"\").replace(\"-\", \"\")\n",
        "\n",
        "# This function removes english punctuations\n",
        "def clean_eng_punc(text):\n",
        "    return re.sub(r'[^\\w\\s]',' ',text)\n",
        "\n",
        "# This function removes persian punctuations\n",
        "def clean_fa_punc(text):\n",
        "    cleaner = re.compile(r'[؟.!)(:؛<>٫«»*،٪]')\n",
        "    return re.sub(cleaner, ' ', text)\n",
        "\n",
        "def clean_quote(text):\n",
        "    return text.replace(\"'\", \" \").replace('\"', ' ')\n",
        "\n",
        "def clean_repetition(text):\n",
        "    return \"\".join([\"\".join(tuple(group)[:2]) for char, group in groupby(text)])\n",
        "\n",
        "def clean_multiple_space(text):\n",
        "    return re.sub(' +', ' ', text)\n",
        "\n",
        "df['comment'] = df['comment'].apply(cleaner)\n",
        "df = df[df['comment'].notna()]\n",
        "df = df[~df.duplicated(['comment'], keep='first')]"
      ],
      "execution_count": 6,
      "outputs": []
    },
    {
      "cell_type": "markdown",
      "metadata": {
        "id": "YaoeL9L6H3mh"
      },
      "source": [
        "# Train, Validation, Test Split"
      ]
    },
    {
      "cell_type": "code",
      "metadata": {
        "id": "lf13IfoWA7E5"
      },
      "source": [
        "train_comment, val_comment, train_label, val_label = train_test_split(\n",
        "    df['comment'].tolist(), \n",
        "    df['label'].tolist(),  \n",
        "    test_size=.2, \n",
        "    random_state=SEED_NUMBER\n",
        ")\n",
        "test_comment, val_comment, test_label, val_label = train_test_split(\n",
        "    val_comment, \n",
        "    val_label,  \n",
        "    test_size=.5, \n",
        "    random_state=SEED_NUMBER\n",
        ")"
      ],
      "execution_count": 7,
      "outputs": []
    },
    {
      "cell_type": "markdown",
      "metadata": {
        "id": "3LueoKH0Oyfg"
      },
      "source": [
        "# Tokenization, Dataset, DataLoader "
      ]
    },
    {
      "cell_type": "code",
      "metadata": {
        "id": "4TXjRz-Cdms2"
      },
      "source": [
        "tokenizer = BertTokenizerFast.from_pretrained(MODEL_NAME)\n",
        "\n",
        "train_encoding = tokenizer(train_comment, truncation=True, padding='max_length', max_length=MAX_SEQ_LEN)\n",
        "val_encoding = tokenizer(val_comment, truncation=True, padding='max_length', max_length=MAX_SEQ_LEN)\n",
        "test_encoding = tokenizer(test_comment, truncation=True, padding='max_length', max_length=MAX_SEQ_LEN)"
      ],
      "execution_count": 8,
      "outputs": []
    },
    {
      "cell_type": "code",
      "metadata": {
        "id": "vWxyHbj7S48G"
      },
      "source": [
        "class Taaghche(Dataset):\n",
        "    def __init__(self, encodings, labels):\n",
        "        self.encodings = encodings\n",
        "        self.labels = labels\n",
        "\n",
        "    def __getitem__(self, idx):\n",
        "        item = {key: torch.tensor(val[idx]) for key, val in self.encodings.items()}\n",
        "        item['labels'] = torch.tensor(self.labels[idx])\n",
        "        return item\n",
        "\n",
        "    def __len__(self):\n",
        "        return len(self.labels)\n",
        "\n",
        "train_dataset = Taaghche(train_encoding, train_label)\n",
        "val_dataset = Taaghche(val_encoding, val_label)\n",
        "test_dataset = Taaghche(test_encoding, test_label)"
      ],
      "execution_count": 9,
      "outputs": []
    },
    {
      "cell_type": "code",
      "metadata": {
        "id": "5pgyOPKvUXu3"
      },
      "source": [
        "train_loader = DataLoader(train_dataset, batch_size=TRAIN_BATCH_SIZE, shuffle=True)\n",
        "valid_loader = DataLoader(val_dataset, batch_size=VALID_BATCH_SIZE, shuffle=False)\n",
        "test_loader = DataLoader(test_dataset, batch_size=TEST_BATCH_SIZE, shuffle=False)"
      ],
      "execution_count": 10,
      "outputs": []
    },
    {
      "cell_type": "markdown",
      "metadata": {
        "id": "Xwv8qTESsDUa"
      },
      "source": [
        "# Training Model"
      ]
    },
    {
      "cell_type": "code",
      "metadata": {
        "id": "jWXcdoj1r1NM"
      },
      "source": [
        "# function to train the model\n",
        "def train(data_loader):\n",
        "  \n",
        "  model.train()\n",
        "\n",
        "  total_loss, total_accuracy = 0, 0\n",
        "  \n",
        "  # empty list to save model predictions\n",
        "  all_preds = []\n",
        "  # iterate over batches\n",
        "  for step,batch in enumerate(tqdm(data_loader)):\n",
        "\n",
        "    # push the batch to gpu\n",
        "    batch = {key: val.type(torch.LongTensor).to(device) for key, val in batch.items()} \n",
        "\n",
        "    # clear previously calculated gradients \n",
        "    model.zero_grad()        \n",
        "\n",
        "    # get model predictions for the current batch\n",
        "    loss, logits = model(**batch)\n",
        "    scores = F.softmax(logits, dim=-1)\n",
        "    preds = torch.argmax(scores, dim=-1)\n",
        "    \n",
        "    # add on to the total loss\n",
        "    total_loss = total_loss + loss.item()\n",
        "\n",
        "    # backward pass to calculate the gradients\n",
        "    loss.backward()\n",
        "\n",
        "    # clip the the gradients to 1.0. It helps in preventing the exploding gradient problem\n",
        "    torch.nn.utils.clip_grad_norm_(model.parameters(), 1.0)\n",
        "\n",
        "    # update parameters\n",
        "    optimizer.step()\n",
        "\n",
        "    # append the model predictions\n",
        "    all_preds.extend(preds.flatten().detach().cpu().numpy())\n",
        "  # compute the training loss of the epoch\n",
        "  avg_loss = total_loss / len(data_loader)\n",
        "\n",
        "  #returns the loss and predictions\n",
        "  return avg_loss"
      ],
      "execution_count": 11,
      "outputs": []
    },
    {
      "cell_type": "code",
      "metadata": {
        "id": "4QrlGKGIwK09"
      },
      "source": [
        "# function for evaluating the model\n",
        "def evaluate(data_loader):\n",
        "  \n",
        "  print(\"\\nEvaluating...\")\n",
        "  \n",
        "  # deactivate dropout layers\n",
        "  model.eval()\n",
        "\n",
        "  total_loss, total_accuracy = 0, 0\n",
        "  \n",
        "  # empty list to save the model predictions\n",
        "  all_preds=[]\n",
        "  # iterate over batches\n",
        "  for step,batch in enumerate(data_loader):\n",
        "           \n",
        "    # push the batch to gpu\n",
        "    batch = {key: val.type(torch.LongTensor).to(device) for key, val in batch.items()}\n",
        "\n",
        "    # deactivate autograd\n",
        "    with torch.no_grad():\n",
        "      \n",
        "      # model predictions\n",
        "      loss, logits =  model(**batch)\n",
        "      scores = F.softmax(logits, dim=-1)\n",
        "      preds = torch.argmax(scores, dim=-1)\n",
        "\n",
        "      total_loss = total_loss + loss.item()\n",
        "      all_preds.extend(preds.flatten().detach().cpu().numpy())\n",
        "\n",
        "  # compute the validation loss of the epoch\n",
        "  avg_loss = total_loss / len(data_loader) \n",
        "  print(\"\\n\")\n",
        "  print(classification_report(data_loader.dataset.labels, all_preds))\n",
        "  \n",
        "  return avg_loss"
      ],
      "execution_count": 12,
      "outputs": []
    },
    {
      "cell_type": "code",
      "metadata": {
        "colab": {
          "base_uri": "https://localhost:8080/"
        },
        "id": "Z5s7kncuzNgG",
        "outputId": "aba44d54-fea8-4cbc-dc7f-cea74860a658"
      },
      "source": [
        "device = torch.device('cuda:0') if torch.cuda.is_available() else torch.device(\"cpu\")\n",
        "model = BertForSequenceClassification.from_pretrained(MODEL_NAME,num_labels=2).to(device)\n",
        "optimizer = AdamW(model.parameters(), lr=LARNING_RATE)"
      ],
      "execution_count": 13,
      "outputs": [
        {
          "output_type": "stream",
          "text": [
            "Some weights of the model checkpoint at HooshvareLab/bert-base-parsbert-uncased were not used when initializing BertForSequenceClassification: ['cls.predictions.bias', 'cls.predictions.transform.dense.weight', 'cls.predictions.transform.dense.bias', 'cls.predictions.transform.LayerNorm.weight', 'cls.predictions.transform.LayerNorm.bias', 'cls.predictions.decoder.weight', 'cls.predictions.decoder.bias', 'cls.seq_relationship.weight', 'cls.seq_relationship.bias']\n",
            "- This IS expected if you are initializing BertForSequenceClassification from the checkpoint of a model trained on another task or with another architecture (e.g. initializing a BertForSequenceClassification model from a BertForPretraining model).\n",
            "- This IS NOT expected if you are initializing BertForSequenceClassification from the checkpoint of a model that you expect to be exactly identical (initializing a BertForSequenceClassification model from a BertForSequenceClassification model).\n",
            "Some weights of BertForSequenceClassification were not initialized from the model checkpoint at HooshvareLab/bert-base-parsbert-uncased and are newly initialized: ['classifier.weight', 'classifier.bias']\n",
            "You should probably TRAIN this model on a down-stream task to be able to use it for predictions and inference.\n"
          ],
          "name": "stderr"
        }
      ]
    },
    {
      "cell_type": "code",
      "metadata": {
        "id": "jRAeoj6bzQsc"
      },
      "source": [
        "for param in model.bert.parameters():\n",
        "    param.requires_grad = False"
      ],
      "execution_count": 14,
      "outputs": []
    },
    {
      "cell_type": "code",
      "metadata": {
        "colab": {
          "base_uri": "https://localhost:8080/"
        },
        "id": "7l-9C6DszSXs",
        "outputId": "53c9fcb0-96b6-4628-df14-dbb2337c0486"
      },
      "source": [
        "# set initial loss to infinite\n",
        "best_valid_loss = float('inf')\n",
        "\n",
        "# empty lists to store training and validation loss of each epoch\n",
        "train_losses=[]\n",
        "valid_losses=[]\n",
        "\n",
        "#for each epoch\n",
        "for epoch in range(EPOCHS):\n",
        "     \n",
        "    print('\\n Epoch {:} / {:}'.format(epoch + 1, EPOCHS))\n",
        "    \n",
        "    #train model\n",
        "    train_loss = train(train_loader)\n",
        "    \n",
        "    #evaluate model\n",
        "    valid_loss = evaluate(valid_loader)\n",
        "    \n",
        "    #save the best model\n",
        "    if valid_loss < best_valid_loss:\n",
        "        best_valid_loss = valid_loss\n",
        "        torch.save(model.state_dict(), 'model_weights.pt')\n",
        "    \n",
        "    # append training and validation loss\n",
        "    train_losses.append(train_loss)\n",
        "    valid_losses.append(valid_loss)\n",
        "    \n",
        "    print(f'\\nTraining Loss: {train_loss:.3f}')\n",
        "    print(f'Validation Loss: {valid_loss:.3f}')\n"
      ],
      "execution_count": 15,
      "outputs": [
        {
          "output_type": "stream",
          "text": [
            "\r  0%|          | 0/634 [00:00<?, ?it/s]"
          ],
          "name": "stderr"
        },
        {
          "output_type": "stream",
          "text": [
            "\n",
            " Epoch 1 / 30\n"
          ],
          "name": "stdout"
        },
        {
          "output_type": "stream",
          "text": [
            "100%|██████████| 634/634 [02:29<00:00,  4.25it/s]\n"
          ],
          "name": "stderr"
        },
        {
          "output_type": "stream",
          "text": [
            "\n",
            "Evaluating...\n",
            "\n",
            "\n",
            "              precision    recall  f1-score   support\n",
            "\n",
            "           0       0.59      0.59      0.59      1314\n",
            "           1       0.56      0.56      0.56      1220\n",
            "\n",
            "    accuracy                           0.57      2534\n",
            "   macro avg       0.57      0.57      0.57      2534\n",
            "weighted avg       0.57      0.57      0.57      2534\n",
            "\n"
          ],
          "name": "stdout"
        },
        {
          "output_type": "stream",
          "text": [
            "\r  0%|          | 0/634 [00:00<?, ?it/s]"
          ],
          "name": "stderr"
        },
        {
          "output_type": "stream",
          "text": [
            "\n",
            "Training Loss: 0.690\n",
            "Validation Loss: 0.677\n",
            "\n",
            " Epoch 2 / 30\n"
          ],
          "name": "stdout"
        },
        {
          "output_type": "stream",
          "text": [
            "100%|██████████| 634/634 [02:34<00:00,  4.11it/s]\n"
          ],
          "name": "stderr"
        },
        {
          "output_type": "stream",
          "text": [
            "\n",
            "Evaluating...\n",
            "\n",
            "\n",
            "              precision    recall  f1-score   support\n",
            "\n",
            "           0       0.63      0.70      0.66      1314\n",
            "           1       0.63      0.55      0.59      1220\n",
            "\n",
            "    accuracy                           0.63      2534\n",
            "   macro avg       0.63      0.63      0.63      2534\n",
            "weighted avg       0.63      0.63      0.63      2534\n",
            "\n"
          ],
          "name": "stdout"
        },
        {
          "output_type": "stream",
          "text": [
            "\r  0%|          | 0/634 [00:00<?, ?it/s]"
          ],
          "name": "stderr"
        },
        {
          "output_type": "stream",
          "text": [
            "\n",
            "Training Loss: 0.672\n",
            "Validation Loss: 0.657\n",
            "\n",
            " Epoch 3 / 30\n"
          ],
          "name": "stdout"
        },
        {
          "output_type": "stream",
          "text": [
            "100%|██████████| 634/634 [02:34<00:00,  4.10it/s]\n"
          ],
          "name": "stderr"
        },
        {
          "output_type": "stream",
          "text": [
            "\n",
            "Evaluating...\n",
            "\n",
            "\n",
            "              precision    recall  f1-score   support\n",
            "\n",
            "           0       0.66      0.73      0.69      1314\n",
            "           1       0.67      0.60      0.63      1220\n",
            "\n",
            "    accuracy                           0.67      2534\n",
            "   macro avg       0.67      0.66      0.66      2534\n",
            "weighted avg       0.67      0.67      0.66      2534\n",
            "\n"
          ],
          "name": "stdout"
        },
        {
          "output_type": "stream",
          "text": [
            "\r  0%|          | 0/634 [00:00<?, ?it/s]"
          ],
          "name": "stderr"
        },
        {
          "output_type": "stream",
          "text": [
            "\n",
            "Training Loss: 0.654\n",
            "Validation Loss: 0.640\n",
            "\n",
            " Epoch 4 / 30\n"
          ],
          "name": "stdout"
        },
        {
          "output_type": "stream",
          "text": [
            "100%|██████████| 634/634 [02:35<00:00,  4.09it/s]\n"
          ],
          "name": "stderr"
        },
        {
          "output_type": "stream",
          "text": [
            "\n",
            "Evaluating...\n",
            "\n",
            "\n",
            "              precision    recall  f1-score   support\n",
            "\n",
            "           0       0.68      0.73      0.71      1314\n",
            "           1       0.69      0.63      0.66      1220\n",
            "\n",
            "    accuracy                           0.68      2534\n",
            "   macro avg       0.68      0.68      0.68      2534\n",
            "weighted avg       0.68      0.68      0.68      2534\n",
            "\n"
          ],
          "name": "stdout"
        },
        {
          "output_type": "stream",
          "text": [
            "\r  0%|          | 0/634 [00:00<?, ?it/s]"
          ],
          "name": "stderr"
        },
        {
          "output_type": "stream",
          "text": [
            "\n",
            "Training Loss: 0.642\n",
            "Validation Loss: 0.626\n",
            "\n",
            " Epoch 5 / 30\n"
          ],
          "name": "stdout"
        },
        {
          "output_type": "stream",
          "text": [
            "100%|██████████| 634/634 [02:35<00:00,  4.09it/s]\n"
          ],
          "name": "stderr"
        },
        {
          "output_type": "stream",
          "text": [
            "\n",
            "Evaluating...\n",
            "\n",
            "\n",
            "              precision    recall  f1-score   support\n",
            "\n",
            "           0       0.71      0.70      0.71      1314\n",
            "           1       0.68      0.69      0.69      1220\n",
            "\n",
            "    accuracy                           0.70      2534\n",
            "   macro avg       0.70      0.70      0.70      2534\n",
            "weighted avg       0.70      0.70      0.70      2534\n",
            "\n"
          ],
          "name": "stdout"
        },
        {
          "output_type": "stream",
          "text": [
            "\r  0%|          | 0/634 [00:00<?, ?it/s]"
          ],
          "name": "stderr"
        },
        {
          "output_type": "stream",
          "text": [
            "\n",
            "Training Loss: 0.629\n",
            "Validation Loss: 0.615\n",
            "\n",
            " Epoch 6 / 30\n"
          ],
          "name": "stdout"
        },
        {
          "output_type": "stream",
          "text": [
            "100%|██████████| 634/634 [02:35<00:00,  4.08it/s]\n"
          ],
          "name": "stderr"
        },
        {
          "output_type": "stream",
          "text": [
            "\n",
            "Evaluating...\n",
            "\n",
            "\n",
            "              precision    recall  f1-score   support\n",
            "\n",
            "           0       0.72      0.73      0.72      1314\n",
            "           1       0.70      0.69      0.70      1220\n",
            "\n",
            "    accuracy                           0.71      2534\n",
            "   macro avg       0.71      0.71      0.71      2534\n",
            "weighted avg       0.71      0.71      0.71      2534\n",
            "\n"
          ],
          "name": "stdout"
        },
        {
          "output_type": "stream",
          "text": [
            "\r  0%|          | 0/634 [00:00<?, ?it/s]"
          ],
          "name": "stderr"
        },
        {
          "output_type": "stream",
          "text": [
            "\n",
            "Training Loss: 0.619\n",
            "Validation Loss: 0.605\n",
            "\n",
            " Epoch 7 / 30\n"
          ],
          "name": "stdout"
        },
        {
          "output_type": "stream",
          "text": [
            "100%|██████████| 634/634 [02:35<00:00,  4.08it/s]\n"
          ],
          "name": "stderr"
        },
        {
          "output_type": "stream",
          "text": [
            "\n",
            "Evaluating...\n",
            "\n",
            "\n",
            "              precision    recall  f1-score   support\n",
            "\n",
            "           0       0.72      0.77      0.74      1314\n",
            "           1       0.73      0.67      0.70      1220\n",
            "\n",
            "    accuracy                           0.72      2534\n",
            "   macro avg       0.72      0.72      0.72      2534\n",
            "weighted avg       0.72      0.72      0.72      2534\n",
            "\n"
          ],
          "name": "stdout"
        },
        {
          "output_type": "stream",
          "text": [
            "\r  0%|          | 0/634 [00:00<?, ?it/s]"
          ],
          "name": "stderr"
        },
        {
          "output_type": "stream",
          "text": [
            "\n",
            "Training Loss: 0.611\n",
            "Validation Loss: 0.596\n",
            "\n",
            " Epoch 8 / 30\n"
          ],
          "name": "stdout"
        },
        {
          "output_type": "stream",
          "text": [
            "100%|██████████| 634/634 [02:35<00:00,  4.08it/s]\n"
          ],
          "name": "stderr"
        },
        {
          "output_type": "stream",
          "text": [
            "\n",
            "Evaluating...\n",
            "\n",
            "\n",
            "              precision    recall  f1-score   support\n",
            "\n",
            "           0       0.73      0.75      0.74      1314\n",
            "           1       0.72      0.70      0.71      1220\n",
            "\n",
            "    accuracy                           0.72      2534\n",
            "   macro avg       0.72      0.72      0.72      2534\n",
            "weighted avg       0.72      0.72      0.72      2534\n",
            "\n"
          ],
          "name": "stdout"
        },
        {
          "output_type": "stream",
          "text": [
            "\r  0%|          | 0/634 [00:00<?, ?it/s]"
          ],
          "name": "stderr"
        },
        {
          "output_type": "stream",
          "text": [
            "\n",
            "Training Loss: 0.605\n",
            "Validation Loss: 0.589\n",
            "\n",
            " Epoch 9 / 30\n"
          ],
          "name": "stdout"
        },
        {
          "output_type": "stream",
          "text": [
            "100%|██████████| 634/634 [02:35<00:00,  4.09it/s]\n"
          ],
          "name": "stderr"
        },
        {
          "output_type": "stream",
          "text": [
            "\n",
            "Evaluating...\n",
            "\n",
            "\n",
            "              precision    recall  f1-score   support\n",
            "\n",
            "           0       0.73      0.76      0.74      1314\n",
            "           1       0.73      0.70      0.71      1220\n",
            "\n",
            "    accuracy                           0.73      2534\n",
            "   macro avg       0.73      0.73      0.73      2534\n",
            "weighted avg       0.73      0.73      0.73      2534\n",
            "\n"
          ],
          "name": "stdout"
        },
        {
          "output_type": "stream",
          "text": [
            "\r  0%|          | 0/634 [00:00<?, ?it/s]"
          ],
          "name": "stderr"
        },
        {
          "output_type": "stream",
          "text": [
            "\n",
            "Training Loss: 0.599\n",
            "Validation Loss: 0.582\n",
            "\n",
            " Epoch 10 / 30\n"
          ],
          "name": "stdout"
        },
        {
          "output_type": "stream",
          "text": [
            "100%|██████████| 634/634 [02:35<00:00,  4.08it/s]\n"
          ],
          "name": "stderr"
        },
        {
          "output_type": "stream",
          "text": [
            "\n",
            "Evaluating...\n",
            "\n",
            "\n",
            "              precision    recall  f1-score   support\n",
            "\n",
            "           0       0.74      0.73      0.74      1314\n",
            "           1       0.72      0.73      0.72      1220\n",
            "\n",
            "    accuracy                           0.73      2534\n",
            "   macro avg       0.73      0.73      0.73      2534\n",
            "weighted avg       0.73      0.73      0.73      2534\n",
            "\n"
          ],
          "name": "stdout"
        },
        {
          "output_type": "stream",
          "text": [
            "\r  0%|          | 0/634 [00:00<?, ?it/s]"
          ],
          "name": "stderr"
        },
        {
          "output_type": "stream",
          "text": [
            "\n",
            "Training Loss: 0.592\n",
            "Validation Loss: 0.577\n",
            "\n",
            " Epoch 11 / 30\n"
          ],
          "name": "stdout"
        },
        {
          "output_type": "stream",
          "text": [
            "100%|██████████| 634/634 [02:35<00:00,  4.08it/s]\n"
          ],
          "name": "stderr"
        },
        {
          "output_type": "stream",
          "text": [
            "\n",
            "Evaluating...\n",
            "\n",
            "\n",
            "              precision    recall  f1-score   support\n",
            "\n",
            "           0       0.74      0.76      0.75      1314\n",
            "           1       0.73      0.71      0.72      1220\n",
            "\n",
            "    accuracy                           0.74      2534\n",
            "   macro avg       0.73      0.73      0.73      2534\n",
            "weighted avg       0.74      0.74      0.74      2534\n",
            "\n"
          ],
          "name": "stdout"
        },
        {
          "output_type": "stream",
          "text": [
            "\r  0%|          | 0/634 [00:00<?, ?it/s]"
          ],
          "name": "stderr"
        },
        {
          "output_type": "stream",
          "text": [
            "\n",
            "Training Loss: 0.588\n",
            "Validation Loss: 0.571\n",
            "\n",
            " Epoch 12 / 30\n"
          ],
          "name": "stdout"
        },
        {
          "output_type": "stream",
          "text": [
            "100%|██████████| 634/634 [02:35<00:00,  4.08it/s]\n"
          ],
          "name": "stderr"
        },
        {
          "output_type": "stream",
          "text": [
            "\n",
            "Evaluating...\n",
            "\n",
            "\n",
            "              precision    recall  f1-score   support\n",
            "\n",
            "           0       0.74      0.76      0.75      1314\n",
            "           1       0.73      0.71      0.72      1220\n",
            "\n",
            "    accuracy                           0.74      2534\n",
            "   macro avg       0.73      0.73      0.73      2534\n",
            "weighted avg       0.74      0.74      0.74      2534\n",
            "\n"
          ],
          "name": "stdout"
        },
        {
          "output_type": "stream",
          "text": [
            "\r  0%|          | 0/634 [00:00<?, ?it/s]"
          ],
          "name": "stderr"
        },
        {
          "output_type": "stream",
          "text": [
            "\n",
            "Training Loss: 0.583\n",
            "Validation Loss: 0.566\n",
            "\n",
            " Epoch 13 / 30\n"
          ],
          "name": "stdout"
        },
        {
          "output_type": "stream",
          "text": [
            "100%|██████████| 634/634 [02:35<00:00,  4.08it/s]\n"
          ],
          "name": "stderr"
        },
        {
          "output_type": "stream",
          "text": [
            "\n",
            "Evaluating...\n",
            "\n",
            "\n",
            "              precision    recall  f1-score   support\n",
            "\n",
            "           0       0.75      0.75      0.75      1314\n",
            "           1       0.73      0.73      0.73      1220\n",
            "\n",
            "    accuracy                           0.74      2534\n",
            "   macro avg       0.74      0.74      0.74      2534\n",
            "weighted avg       0.74      0.74      0.74      2534\n",
            "\n"
          ],
          "name": "stdout"
        },
        {
          "output_type": "stream",
          "text": [
            "\r  0%|          | 0/634 [00:00<?, ?it/s]"
          ],
          "name": "stderr"
        },
        {
          "output_type": "stream",
          "text": [
            "\n",
            "Training Loss: 0.579\n",
            "Validation Loss: 0.562\n",
            "\n",
            " Epoch 14 / 30\n"
          ],
          "name": "stdout"
        },
        {
          "output_type": "stream",
          "text": [
            "100%|██████████| 634/634 [02:35<00:00,  4.09it/s]\n"
          ],
          "name": "stderr"
        },
        {
          "output_type": "stream",
          "text": [
            "\n",
            "Evaluating...\n",
            "\n",
            "\n",
            "              precision    recall  f1-score   support\n",
            "\n",
            "           0       0.75      0.75      0.75      1314\n",
            "           1       0.73      0.73      0.73      1220\n",
            "\n",
            "    accuracy                           0.74      2534\n",
            "   macro avg       0.74      0.74      0.74      2534\n",
            "weighted avg       0.74      0.74      0.74      2534\n",
            "\n"
          ],
          "name": "stdout"
        },
        {
          "output_type": "stream",
          "text": [
            "\r  0%|          | 0/634 [00:00<?, ?it/s]"
          ],
          "name": "stderr"
        },
        {
          "output_type": "stream",
          "text": [
            "\n",
            "Training Loss: 0.576\n",
            "Validation Loss: 0.559\n",
            "\n",
            " Epoch 15 / 30\n"
          ],
          "name": "stdout"
        },
        {
          "output_type": "stream",
          "text": [
            "100%|██████████| 634/634 [02:35<00:00,  4.08it/s]\n"
          ],
          "name": "stderr"
        },
        {
          "output_type": "stream",
          "text": [
            "\n",
            "Evaluating...\n",
            "\n",
            "\n",
            "              precision    recall  f1-score   support\n",
            "\n",
            "           0       0.75      0.74      0.75      1314\n",
            "           1       0.73      0.74      0.73      1220\n",
            "\n",
            "    accuracy                           0.74      2534\n",
            "   macro avg       0.74      0.74      0.74      2534\n",
            "weighted avg       0.74      0.74      0.74      2534\n",
            "\n"
          ],
          "name": "stdout"
        },
        {
          "output_type": "stream",
          "text": [
            "\r  0%|          | 0/634 [00:00<?, ?it/s]"
          ],
          "name": "stderr"
        },
        {
          "output_type": "stream",
          "text": [
            "\n",
            "Training Loss: 0.571\n",
            "Validation Loss: 0.556\n",
            "\n",
            " Epoch 16 / 30\n"
          ],
          "name": "stdout"
        },
        {
          "output_type": "stream",
          "text": [
            "100%|██████████| 634/634 [02:35<00:00,  4.08it/s]\n"
          ],
          "name": "stderr"
        },
        {
          "output_type": "stream",
          "text": [
            "\n",
            "Evaluating...\n",
            "\n",
            "\n",
            "              precision    recall  f1-score   support\n",
            "\n",
            "           0       0.75      0.74      0.75      1314\n",
            "           1       0.73      0.74      0.73      1220\n",
            "\n",
            "    accuracy                           0.74      2534\n",
            "   macro avg       0.74      0.74      0.74      2534\n",
            "weighted avg       0.74      0.74      0.74      2534\n",
            "\n"
          ],
          "name": "stdout"
        },
        {
          "output_type": "stream",
          "text": [
            "\r  0%|          | 0/634 [00:00<?, ?it/s]"
          ],
          "name": "stderr"
        },
        {
          "output_type": "stream",
          "text": [
            "\n",
            "Training Loss: 0.568\n",
            "Validation Loss: 0.553\n",
            "\n",
            " Epoch 17 / 30\n"
          ],
          "name": "stdout"
        },
        {
          "output_type": "stream",
          "text": [
            "100%|██████████| 634/634 [02:35<00:00,  4.07it/s]\n"
          ],
          "name": "stderr"
        },
        {
          "output_type": "stream",
          "text": [
            "\n",
            "Evaluating...\n",
            "\n",
            "\n",
            "              precision    recall  f1-score   support\n",
            "\n",
            "           0       0.75      0.76      0.76      1314\n",
            "           1       0.74      0.72      0.73      1220\n",
            "\n",
            "    accuracy                           0.74      2534\n",
            "   macro avg       0.74      0.74      0.74      2534\n",
            "weighted avg       0.74      0.74      0.74      2534\n",
            "\n"
          ],
          "name": "stdout"
        },
        {
          "output_type": "stream",
          "text": [
            "\r  0%|          | 0/634 [00:00<?, ?it/s]"
          ],
          "name": "stderr"
        },
        {
          "output_type": "stream",
          "text": [
            "\n",
            "Training Loss: 0.566\n",
            "Validation Loss: 0.549\n",
            "\n",
            " Epoch 18 / 30\n"
          ],
          "name": "stdout"
        },
        {
          "output_type": "stream",
          "text": [
            "100%|██████████| 634/634 [02:35<00:00,  4.08it/s]\n"
          ],
          "name": "stderr"
        },
        {
          "output_type": "stream",
          "text": [
            "\n",
            "Evaluating...\n",
            "\n",
            "\n",
            "              precision    recall  f1-score   support\n",
            "\n",
            "           0       0.76      0.74      0.75      1314\n",
            "           1       0.73      0.75      0.74      1220\n",
            "\n",
            "    accuracy                           0.74      2534\n",
            "   macro avg       0.74      0.74      0.74      2534\n",
            "weighted avg       0.74      0.74      0.74      2534\n",
            "\n"
          ],
          "name": "stdout"
        },
        {
          "output_type": "stream",
          "text": [
            "\r  0%|          | 0/634 [00:00<?, ?it/s]"
          ],
          "name": "stderr"
        },
        {
          "output_type": "stream",
          "text": [
            "\n",
            "Training Loss: 0.564\n",
            "Validation Loss: 0.548\n",
            "\n",
            " Epoch 19 / 30\n"
          ],
          "name": "stdout"
        },
        {
          "output_type": "stream",
          "text": [
            "100%|██████████| 634/634 [02:35<00:00,  4.08it/s]\n"
          ],
          "name": "stderr"
        },
        {
          "output_type": "stream",
          "text": [
            "\n",
            "Evaluating...\n",
            "\n",
            "\n",
            "              precision    recall  f1-score   support\n",
            "\n",
            "           0       0.75      0.75      0.75      1314\n",
            "           1       0.73      0.73      0.73      1220\n",
            "\n",
            "    accuracy                           0.74      2534\n",
            "   macro avg       0.74      0.74      0.74      2534\n",
            "weighted avg       0.74      0.74      0.74      2534\n",
            "\n"
          ],
          "name": "stdout"
        },
        {
          "output_type": "stream",
          "text": [
            "\r  0%|          | 0/634 [00:00<?, ?it/s]"
          ],
          "name": "stderr"
        },
        {
          "output_type": "stream",
          "text": [
            "\n",
            "Training Loss: 0.565\n",
            "Validation Loss: 0.545\n",
            "\n",
            " Epoch 20 / 30\n"
          ],
          "name": "stdout"
        },
        {
          "output_type": "stream",
          "text": [
            "100%|██████████| 634/634 [02:35<00:00,  4.08it/s]\n"
          ],
          "name": "stderr"
        },
        {
          "output_type": "stream",
          "text": [
            "\n",
            "Evaluating...\n",
            "\n",
            "\n",
            "              precision    recall  f1-score   support\n",
            "\n",
            "           0       0.76      0.75      0.75      1314\n",
            "           1       0.73      0.74      0.74      1220\n",
            "\n",
            "    accuracy                           0.74      2534\n",
            "   macro avg       0.74      0.74      0.74      2534\n",
            "weighted avg       0.74      0.74      0.74      2534\n",
            "\n"
          ],
          "name": "stdout"
        },
        {
          "output_type": "stream",
          "text": [
            "\r  0%|          | 0/634 [00:00<?, ?it/s]"
          ],
          "name": "stderr"
        },
        {
          "output_type": "stream",
          "text": [
            "\n",
            "Training Loss: 0.560\n",
            "Validation Loss: 0.543\n",
            "\n",
            " Epoch 21 / 30\n"
          ],
          "name": "stdout"
        },
        {
          "output_type": "stream",
          "text": [
            "100%|██████████| 634/634 [02:35<00:00,  4.08it/s]\n"
          ],
          "name": "stderr"
        },
        {
          "output_type": "stream",
          "text": [
            "\n",
            "Evaluating...\n",
            "\n",
            "\n",
            "              precision    recall  f1-score   support\n",
            "\n",
            "           0       0.76      0.75      0.75      1314\n",
            "           1       0.73      0.74      0.74      1220\n",
            "\n",
            "    accuracy                           0.74      2534\n",
            "   macro avg       0.74      0.74      0.74      2534\n",
            "weighted avg       0.74      0.74      0.74      2534\n",
            "\n"
          ],
          "name": "stdout"
        },
        {
          "output_type": "stream",
          "text": [
            "\r  0%|          | 0/634 [00:00<?, ?it/s]"
          ],
          "name": "stderr"
        },
        {
          "output_type": "stream",
          "text": [
            "\n",
            "Training Loss: 0.560\n",
            "Validation Loss: 0.541\n",
            "\n",
            " Epoch 22 / 30\n"
          ],
          "name": "stdout"
        },
        {
          "output_type": "stream",
          "text": [
            "100%|██████████| 634/634 [02:35<00:00,  4.09it/s]\n"
          ],
          "name": "stderr"
        },
        {
          "output_type": "stream",
          "text": [
            "\n",
            "Evaluating...\n",
            "\n",
            "\n",
            "              precision    recall  f1-score   support\n",
            "\n",
            "           0       0.76      0.75      0.75      1314\n",
            "           1       0.73      0.74      0.74      1220\n",
            "\n",
            "    accuracy                           0.74      2534\n",
            "   macro avg       0.74      0.74      0.74      2534\n",
            "weighted avg       0.74      0.74      0.74      2534\n",
            "\n"
          ],
          "name": "stdout"
        },
        {
          "output_type": "stream",
          "text": [
            "\r  0%|          | 0/634 [00:00<?, ?it/s]"
          ],
          "name": "stderr"
        },
        {
          "output_type": "stream",
          "text": [
            "\n",
            "Training Loss: 0.557\n",
            "Validation Loss: 0.540\n",
            "\n",
            " Epoch 23 / 30\n"
          ],
          "name": "stdout"
        },
        {
          "output_type": "stream",
          "text": [
            "100%|██████████| 634/634 [02:35<00:00,  4.08it/s]\n"
          ],
          "name": "stderr"
        },
        {
          "output_type": "stream",
          "text": [
            "\n",
            "Evaluating...\n",
            "\n",
            "\n",
            "              precision    recall  f1-score   support\n",
            "\n",
            "           0       0.76      0.75      0.75      1314\n",
            "           1       0.73      0.74      0.74      1220\n",
            "\n",
            "    accuracy                           0.74      2534\n",
            "   macro avg       0.74      0.74      0.74      2534\n",
            "weighted avg       0.74      0.74      0.74      2534\n",
            "\n"
          ],
          "name": "stdout"
        },
        {
          "output_type": "stream",
          "text": [
            "\r  0%|          | 0/634 [00:00<?, ?it/s]"
          ],
          "name": "stderr"
        },
        {
          "output_type": "stream",
          "text": [
            "\n",
            "Training Loss: 0.555\n",
            "Validation Loss: 0.538\n",
            "\n",
            " Epoch 24 / 30\n"
          ],
          "name": "stdout"
        },
        {
          "output_type": "stream",
          "text": [
            "100%|██████████| 634/634 [02:35<00:00,  4.09it/s]\n"
          ],
          "name": "stderr"
        },
        {
          "output_type": "stream",
          "text": [
            "\n",
            "Evaluating...\n",
            "\n",
            "\n",
            "              precision    recall  f1-score   support\n",
            "\n",
            "           0       0.76      0.75      0.75      1314\n",
            "           1       0.73      0.74      0.74      1220\n",
            "\n",
            "    accuracy                           0.75      2534\n",
            "   macro avg       0.75      0.75      0.75      2534\n",
            "weighted avg       0.75      0.75      0.75      2534\n",
            "\n"
          ],
          "name": "stdout"
        },
        {
          "output_type": "stream",
          "text": [
            "\r  0%|          | 0/634 [00:00<?, ?it/s]"
          ],
          "name": "stderr"
        },
        {
          "output_type": "stream",
          "text": [
            "\n",
            "Training Loss: 0.557\n",
            "Validation Loss: 0.537\n",
            "\n",
            " Epoch 25 / 30\n"
          ],
          "name": "stdout"
        },
        {
          "output_type": "stream",
          "text": [
            "100%|██████████| 634/634 [02:35<00:00,  4.08it/s]\n"
          ],
          "name": "stderr"
        },
        {
          "output_type": "stream",
          "text": [
            "\n",
            "Evaluating...\n",
            "\n",
            "\n",
            "              precision    recall  f1-score   support\n",
            "\n",
            "           0       0.76      0.75      0.75      1314\n",
            "           1       0.73      0.74      0.74      1220\n",
            "\n",
            "    accuracy                           0.75      2534\n",
            "   macro avg       0.75      0.75      0.75      2534\n",
            "weighted avg       0.75      0.75      0.75      2534\n",
            "\n"
          ],
          "name": "stdout"
        },
        {
          "output_type": "stream",
          "text": [
            "\r  0%|          | 0/634 [00:00<?, ?it/s]"
          ],
          "name": "stderr"
        },
        {
          "output_type": "stream",
          "text": [
            "\n",
            "Training Loss: 0.554\n",
            "Validation Loss: 0.535\n",
            "\n",
            " Epoch 26 / 30\n"
          ],
          "name": "stdout"
        },
        {
          "output_type": "stream",
          "text": [
            "100%|██████████| 634/634 [02:34<00:00,  4.09it/s]\n"
          ],
          "name": "stderr"
        },
        {
          "output_type": "stream",
          "text": [
            "\n",
            "Evaluating...\n",
            "\n",
            "\n",
            "              precision    recall  f1-score   support\n",
            "\n",
            "           0       0.75      0.76      0.76      1314\n",
            "           1       0.74      0.74      0.74      1220\n",
            "\n",
            "    accuracy                           0.75      2534\n",
            "   macro avg       0.75      0.75      0.75      2534\n",
            "weighted avg       0.75      0.75      0.75      2534\n",
            "\n"
          ],
          "name": "stdout"
        },
        {
          "output_type": "stream",
          "text": [
            "\r  0%|          | 0/634 [00:00<?, ?it/s]"
          ],
          "name": "stderr"
        },
        {
          "output_type": "stream",
          "text": [
            "\n",
            "Training Loss: 0.552\n",
            "Validation Loss: 0.534\n",
            "\n",
            " Epoch 27 / 30\n"
          ],
          "name": "stdout"
        },
        {
          "output_type": "stream",
          "text": [
            "100%|██████████| 634/634 [02:35<00:00,  4.08it/s]\n"
          ],
          "name": "stderr"
        },
        {
          "output_type": "stream",
          "text": [
            "\n",
            "Evaluating...\n",
            "\n",
            "\n",
            "              precision    recall  f1-score   support\n",
            "\n",
            "           0       0.76      0.75      0.75      1314\n",
            "           1       0.73      0.75      0.74      1220\n",
            "\n",
            "    accuracy                           0.75      2534\n",
            "   macro avg       0.75      0.75      0.75      2534\n",
            "weighted avg       0.75      0.75      0.75      2534\n",
            "\n"
          ],
          "name": "stdout"
        },
        {
          "output_type": "stream",
          "text": [
            "\r  0%|          | 0/634 [00:00<?, ?it/s]"
          ],
          "name": "stderr"
        },
        {
          "output_type": "stream",
          "text": [
            "\n",
            "Training Loss: 0.551\n",
            "Validation Loss: 0.533\n",
            "\n",
            " Epoch 28 / 30\n"
          ],
          "name": "stdout"
        },
        {
          "output_type": "stream",
          "text": [
            "100%|██████████| 634/634 [02:35<00:00,  4.08it/s]\n"
          ],
          "name": "stderr"
        },
        {
          "output_type": "stream",
          "text": [
            "\n",
            "Evaluating...\n",
            "\n",
            "\n",
            "              precision    recall  f1-score   support\n",
            "\n",
            "           0       0.77      0.73      0.75      1314\n",
            "           1       0.73      0.76      0.74      1220\n",
            "\n",
            "    accuracy                           0.75      2534\n",
            "   macro avg       0.75      0.75      0.75      2534\n",
            "weighted avg       0.75      0.75      0.75      2534\n",
            "\n"
          ],
          "name": "stdout"
        },
        {
          "output_type": "stream",
          "text": [
            "\r  0%|          | 0/634 [00:00<?, ?it/s]"
          ],
          "name": "stderr"
        },
        {
          "output_type": "stream",
          "text": [
            "\n",
            "Training Loss: 0.552\n",
            "Validation Loss: 0.533\n",
            "\n",
            " Epoch 29 / 30\n"
          ],
          "name": "stdout"
        },
        {
          "output_type": "stream",
          "text": [
            "100%|██████████| 634/634 [02:35<00:00,  4.08it/s]\n"
          ],
          "name": "stderr"
        },
        {
          "output_type": "stream",
          "text": [
            "\n",
            "Evaluating...\n",
            "\n",
            "\n",
            "              precision    recall  f1-score   support\n",
            "\n",
            "           0       0.76      0.75      0.76      1314\n",
            "           1       0.74      0.74      0.74      1220\n",
            "\n",
            "    accuracy                           0.75      2534\n",
            "   macro avg       0.75      0.75      0.75      2534\n",
            "weighted avg       0.75      0.75      0.75      2534\n",
            "\n"
          ],
          "name": "stdout"
        },
        {
          "output_type": "stream",
          "text": [
            "\r  0%|          | 0/634 [00:00<?, ?it/s]"
          ],
          "name": "stderr"
        },
        {
          "output_type": "stream",
          "text": [
            "\n",
            "Training Loss: 0.549\n",
            "Validation Loss: 0.531\n",
            "\n",
            " Epoch 30 / 30\n"
          ],
          "name": "stdout"
        },
        {
          "output_type": "stream",
          "text": [
            "100%|██████████| 634/634 [02:35<00:00,  4.08it/s]\n"
          ],
          "name": "stderr"
        },
        {
          "output_type": "stream",
          "text": [
            "\n",
            "Evaluating...\n",
            "\n",
            "\n",
            "              precision    recall  f1-score   support\n",
            "\n",
            "           0       0.76      0.75      0.76      1314\n",
            "           1       0.73      0.75      0.74      1220\n",
            "\n",
            "    accuracy                           0.75      2534\n",
            "   macro avg       0.75      0.75      0.75      2534\n",
            "weighted avg       0.75      0.75      0.75      2534\n",
            "\n",
            "\n",
            "Training Loss: 0.549\n",
            "Validation Loss: 0.530\n"
          ],
          "name": "stdout"
        }
      ]
    },
    {
      "cell_type": "markdown",
      "metadata": {
        "id": "nTZPzdueTHWi"
      },
      "source": [
        "# Plotting Train and Valid Loss"
      ]
    },
    {
      "cell_type": "code",
      "metadata": {
        "colab": {
          "base_uri": "https://localhost:8080/",
          "height": 295
        },
        "id": "N3BtM1g6TGfS",
        "outputId": "484bb9f6-5524-4d02-fa92-5fd45136aac6"
      },
      "source": [
        "epochs = range(EPOCHS)\n",
        "plt.plot(epochs, train_losses, 'g', label='Training loss')\n",
        "plt.plot(epochs, valid_losses, 'b', label='validation loss')\n",
        "plt.title('Training and Validation loss')\n",
        "plt.xlabel('Epochs')\n",
        "plt.ylabel('Loss')\n",
        "plt.legend()\n",
        "plt.show()"
      ],
      "execution_count": 16,
      "outputs": [
        {
          "output_type": "display_data",
          "data": {
            "image/png": "[encoded data removed]",
            "text/plain": [
              "<Figure size 432x288 with 1 Axes>"
            ]
          },
          "metadata": {
            "tags": [],
            "needs_background": "light"
          }
        }
      ]
    },
    {
      "cell_type": "markdown",
      "metadata": {
        "id": "9AMIX4LCJUpJ"
      },
      "source": [
        "# Performance on Test Set"
      ]
    },
    {
      "cell_type": "code",
      "metadata": {
        "colab": {
          "base_uri": "https://localhost:8080/"
        },
        "id": "O-e5oeZRJaoo",
        "outputId": "3ab4f119-4501-4f9b-d7ef-83f543013a7e"
      },
      "source": [
        "model.load_state_dict(torch.load(\"model_weights.pt\"))\n",
        "_ = evaluate(test_loader)"
      ],
      "execution_count": 17,
      "outputs": [
        {
          "output_type": "stream",
          "text": [
            "\n",
            "Evaluating...\n",
            "\n",
            "\n",
            "              precision    recall  f1-score   support\n",
            "\n",
            "           0       0.77      0.76      0.76      1341\n",
            "           1       0.73      0.74      0.74      1193\n",
            "\n",
            "    accuracy                           0.75      2534\n",
            "   macro avg       0.75      0.75      0.75      2534\n",
            "weighted avg       0.75      0.75      0.75      2534\n",
            "\n"
          ],
          "name": "stdout"
        }
      ]
    }
  ]
}